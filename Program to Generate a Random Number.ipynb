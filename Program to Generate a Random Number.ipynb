{
 "cells": [
  {
   "cell_type": "code",
   "execution_count": 6,
   "id": "08194b18",
   "metadata": {},
   "outputs": [
    {
     "name": "stdout",
     "output_type": "stream",
     "text": [
      "5\n"
     ]
    }
   ],
   "source": [
    "import random #This line imports the random module in Python. \n",
    "\n",
    "num = random.randint(0,10) # This line generates a random integer between 0 and 10 (inclusive) using the randint() function from the random module.\n",
    "print(num) #This line prints the value of num "
   ]
  },
  {
   "cell_type": "code",
   "execution_count": 11,
   "id": "02b85e11",
   "metadata": {},
   "outputs": [],
   "source": [
    "# Example as a Dice Roll"
   ]
  },
  {
   "cell_type": "code",
   "execution_count": 14,
   "id": "76030cda",
   "metadata": {},
   "outputs": [
    {
     "name": "stdout",
     "output_type": "stream",
     "text": [
      "6\n"
     ]
    }
   ],
   "source": [
    "import random  ##This line imports the random module in Python.\n",
    "\n",
    "num = random.randint(1,6) ## This line generates a random integer between 1 and 6 (inclusive) using the randint() function from the random module.\n",
    "print(num) #This line prints the value of num"
   ]
  },
  {
   "cell_type": "code",
   "execution_count": null,
   "id": "85964bb1",
   "metadata": {},
   "outputs": [],
   "source": []
  }
 ],
 "metadata": {
  "kernelspec": {
   "display_name": "Python 3 (ipykernel)",
   "language": "python",
   "name": "python3"
  },
  "language_info": {
   "codemirror_mode": {
    "name": "ipython",
    "version": 3
   },
   "file_extension": ".py",
   "mimetype": "text/x-python",
   "name": "python",
   "nbconvert_exporter": "python",
   "pygments_lexer": "ipython3",
   "version": "3.9.13"
  }
 },
 "nbformat": 4,
 "nbformat_minor": 5
}
